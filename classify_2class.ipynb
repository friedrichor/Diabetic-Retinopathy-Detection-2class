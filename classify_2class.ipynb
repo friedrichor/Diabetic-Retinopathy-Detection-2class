{
  "nbformat": 4,
  "nbformat_minor": 0,
  "metadata": {
    "colab": {
      "name": "classify-2class.ipynb",
      "provenance": [],
      "collapsed_sections": [],
      "mount_file_id": "1CJLJhY2_7qG9DIYvUS-EtH7bCKjq2_PN",
      "authorship_tag": "ABX9TyNl+VFZ9cIqn+kdOTtm22jN",
      "include_colab_link": true
    },
    "kernelspec": {
      "name": "python3",
      "display_name": "Python 3"
    },
    "language_info": {
      "name": "python"
    },
    "accelerator": "GPU"
  },
  "cells": [
    {
      "cell_type": "markdown",
      "metadata": {
        "id": "view-in-github",
        "colab_type": "text"
      },
      "source": [
        "<a href=\"https://colab.research.google.com/github/friedrichor/Diabetic-Retinopathy-Detection-2class/blob/main/classify_2class.ipynb\" target=\"_parent\"><img src=\"https://colab.research.google.com/assets/colab-badge.svg\" alt=\"Open In Colab\"/></a>"
      ]
    },
    {
      "cell_type": "code",
      "execution_count": null,
      "metadata": {
        "id": "La-UHPu5fvDL",
        "colab": {
          "base_uri": "https://localhost:8080/"
        },
        "outputId": "c0344e65-69af-4086-8b2f-595d292661f7"
      },
      "outputs": [
        {
          "output_type": "stream",
          "name": "stdout",
          "text": [
            "Cloning into 'Diabetic-Retinopathy-Detection'...\n",
            "remote: Enumerating objects: 14044, done.\u001b[K\n",
            "remote: Counting objects: 100% (20/20), done.\u001b[K\n",
            "remote: Compressing objects: 100% (16/16), done.\u001b[K\n",
            "remote: Total 14044 (delta 4), reused 20 (delta 4), pack-reused 14024\u001b[K\n",
            "Receiving objects: 100% (14044/14044), 3.71 GiB | 52.97 MiB/s, done.\n",
            "Resolving deltas: 100% (41/41), done.\n",
            "Checking out files: 100% (11283/11283), done.\n"
          ]
        }
      ],
      "source": [
        "!git clone https://github.com/friedrichor/Diabetic-Retinopathy-Detection"
      ]
    },
    {
      "cell_type": "markdown",
      "source": [
        "# Vision Transformer"
      ],
      "metadata": {
        "id": "vsaHEzHUbviT"
      }
    },
    {
      "cell_type": "code",
      "source": [
        "!python Diabetic-Retinopathy-Detection/train.py --batch-size 64 --batch-size 50"
      ],
      "metadata": {
        "id": "DaGu4khsr03O"
      },
      "execution_count": null,
      "outputs": []
    },
    {
      "cell_type": "code",
      "source": [
        "!python Diabetic-Retinopathy-Detection/predict.py  --path_json 'class_indices.json'"
      ],
      "metadata": {
        "id": "0NJ9-uWwskO8"
      },
      "execution_count": null,
      "outputs": []
    },
    {
      "cell_type": "markdown",
      "source": [
        "# ConvNeXt"
      ],
      "metadata": {
        "id": "k1_3Yogtb1BU"
      }
    },
    {
      "cell_type": "code",
      "source": [
        "!git clone https://github.com/friedrichor/Diabetic-Retinopathy-Detection-2class"
      ],
      "metadata": {
        "colab": {
          "base_uri": "https://localhost:8080/"
        },
        "id": "pkk8kYhuFmb5",
        "outputId": "b05e010e-0952-4850-815e-d75060f47c67"
      },
      "execution_count": null,
      "outputs": [
        {
          "output_type": "stream",
          "name": "stdout",
          "text": [
            "Cloning into 'Diabetic-Retinopathy-Detection-2class'...\n",
            "remote: Enumerating objects: 6212, done.\u001b[K\n",
            "remote: Counting objects: 100% (3/3), done.\u001b[K\n",
            "remote: Compressing objects: 100% (3/3), done.\u001b[K\n",
            "remote: Total 6212 (delta 0), reused 1 (delta 0), pack-reused 6209\u001b[K\n",
            "Receiving objects: 100% (6212/6212), 1.59 GiB | 31.95 MiB/s, done.\n",
            "Resolving deltas: 100% (38/38), done.\n",
            "Checking out files: 100% (6111/6111), done.\n"
          ]
        }
      ]
    },
    {
      "cell_type": "code",
      "source": [
        "!python Diabetic-Retinopathy-Detection-2class/train.py --batch-size 16"
      ],
      "metadata": {
        "id": "TlNta81uzJ9i"
      },
      "execution_count": null,
      "outputs": []
    },
    {
      "cell_type": "code",
      "source": [
        "!python Diabetic-Retinopathy-Detection-2class/predict.py"
      ],
      "metadata": {
        "colab": {
          "base_uri": "https://localhost:8080/"
        },
        "id": "P_eXgD-3c_sC",
        "outputId": "3003b3ce-7c22-4a45-817c-681e2cdda7d4"
      },
      "execution_count": null,
      "outputs": [
        {
          "output_type": "stream",
          "name": "stdout",
          "text": [
            "Namespace(device=device(type='cuda', index=0), num_classes=2, path_json=PosixPath('Diabetic-Retinopathy-Detection-2class/class_indices.json'), path_test=PosixPath('Diabetic-Retinopathy-Detection-2class/data/test'), weights=PosixPath('Diabetic-Retinopathy-Detection-2class/weights/best_model.pth'))\n",
            "using cuda:0 device.\n",
            "TP = 55 FN = 4 FP = 6 TN = 34\n",
            "准确率: 0.898989898989899\n",
            "精确率: 0.9016393442622951\n",
            "召回率: 0.9322033898305084\n",
            "F1 score: 0.9166666666666666\n"
          ]
        }
      ]
    },
    {
      "cell_type": "code",
      "source": [
        "!python Diabetic-Retinopathy-Detection-2class/train_k_fold.py --epochs 6 --k-fold 10 "
      ],
      "metadata": {
        "colab": {
          "base_uri": "https://localhost:8080/"
        },
        "id": "MQGYJXbgmunc",
        "outputId": "ef539b1a-0cb8-442f-ce39-98f6914b1d0c"
      },
      "execution_count": 8,
      "outputs": [
        {
          "output_type": "stream",
          "name": "stdout",
          "text": [
            "Namespace(batch_size=8, data_path=PosixPath('Diabetic-Retinopathy-Detection-2class/data/train'), device=device(type='cuda', index=0), epochs=6, freeze_layers=False, k_fold=10, lr=0.0005, num_classes=2, wd=0.05, weights=PosixPath('Diabetic-Retinopathy-Detection-2class/../drive/MyDrive/torch_convnext/convnext_large_1k_224_ema.pth'))\n",
            "using cuda:0 device.\n",
            "6000 images were found in the dataset.\n",
            "5400 images for training.\n",
            "600 images for validation.\n",
            "Using 2 dataloader workers every process\n",
            "_IncompatibleKeys(missing_keys=['head.weight', 'head.bias'], unexpected_keys=[])\n",
            "[train epoch 0] loss: 0.490, acc: 0.765, lr: 0.00050: 100% 675/675 [04:49<00:00,  2.33it/s]\n",
            "[valid epoch 0] loss: 0.324, acc: 0.865: 100% 75/75 [00:09<00:00,  8.18it/s]\n",
            "[train epoch 1] loss: 0.397, acc: 0.822, lr: 0.00045: 100% 675/675 [04:49<00:00,  2.34it/s]\n",
            "[valid epoch 1] loss: 0.234, acc: 0.912: 100% 75/75 [00:09<00:00,  8.16it/s]\n",
            "[train epoch 2] loss: 0.287, acc: 0.877, lr: 0.00033: 100% 675/675 [04:48<00:00,  2.34it/s]\n",
            "[valid epoch 2] loss: 0.101, acc: 0.963: 100% 75/75 [00:09<00:00,  8.11it/s]\n",
            "[train epoch 3] loss: 0.197, acc: 0.919, lr: 0.00017: 100% 675/675 [04:49<00:00,  2.34it/s]\n",
            "[valid epoch 3] loss: 0.071, acc: 0.977: 100% 75/75 [00:09<00:00,  8.23it/s]\n",
            "[train epoch 4] loss: 0.121, acc: 0.948, lr: 0.00005: 100% 675/675 [04:48<00:00,  2.34it/s]\n",
            "[valid epoch 4] loss: 0.008, acc: 0.998: 100% 75/75 [00:09<00:00,  8.26it/s]\n",
            "[train epoch 5] loss: 0.086, acc: 0.965, lr: 0.00000: 100% 675/675 [04:49<00:00,  2.33it/s]\n",
            "[valid epoch 5] loss: 0.005, acc: 1.000: 100% 75/75 [00:09<00:00,  8.16it/s]\n",
            "6000 images were found in the dataset.\n",
            "5400 images for training.\n",
            "600 images for validation.\n",
            "Using 2 dataloader workers every process\n",
            "_IncompatibleKeys(missing_keys=['head.weight', 'head.bias'], unexpected_keys=[])\n",
            "[train epoch 0] loss: 0.536, acc: 0.720, lr: 0.00050: 100% 675/675 [04:49<00:00,  2.33it/s]\n",
            "[valid epoch 0] loss: 0.429, acc: 0.825: 100% 75/75 [00:09<00:00,  8.15it/s]\n",
            "[train epoch 1] loss: 0.412, acc: 0.808, lr: 0.00045: 100% 675/675 [04:49<00:00,  2.33it/s]\n",
            "[valid epoch 1] loss: 0.234, acc: 0.903: 100% 75/75 [00:09<00:00,  8.17it/s]\n",
            "[train epoch 2] loss: 0.300, acc: 0.871, lr: 0.00033: 100% 675/675 [04:48<00:00,  2.34it/s]\n",
            "[valid epoch 2] loss: 0.121, acc: 0.965: 100% 75/75 [00:09<00:00,  8.26it/s]\n",
            "[train epoch 3] loss: 0.207, acc: 0.912, lr: 0.00017: 100% 675/675 [04:48<00:00,  2.34it/s]\n",
            "[valid epoch 3] loss: 0.074, acc: 0.970: 100% 75/75 [00:09<00:00,  8.33it/s]\n",
            "[train epoch 4] loss: 0.125, acc: 0.946, lr: 0.00005: 100% 675/675 [04:48<00:00,  2.34it/s]\n",
            "[valid epoch 4] loss: 0.012, acc: 0.995: 100% 75/75 [00:09<00:00,  8.25it/s]\n",
            "[train epoch 5] loss: 0.078, acc: 0.970, lr: 0.00000: 100% 675/675 [04:48<00:00,  2.34it/s]\n",
            "[valid epoch 5] loss: 0.003, acc: 0.998: 100% 75/75 [00:09<00:00,  8.18it/s]\n",
            "6000 images were found in the dataset.\n",
            "5400 images for training.\n",
            "600 images for validation.\n",
            "Using 2 dataloader workers every process\n",
            "_IncompatibleKeys(missing_keys=['head.weight', 'head.bias'], unexpected_keys=[])\n",
            "[train epoch 0] loss: 0.495, acc: 0.764, lr: 0.00050: 100% 675/675 [04:48<00:00,  2.34it/s]\n",
            "[valid epoch 0] loss: 0.363, acc: 0.867: 100% 75/75 [00:09<00:00,  8.25it/s]\n",
            "[train epoch 1] loss: 0.428, acc: 0.803, lr: 0.00045: 100% 675/675 [04:47<00:00,  2.35it/s]\n",
            "[valid epoch 1] loss: 0.334, acc: 0.847: 100% 75/75 [00:08<00:00,  8.33it/s]\n",
            "[train epoch 2] loss: 0.282, acc: 0.882, lr: 0.00033: 100% 675/675 [04:47<00:00,  2.35it/s]\n",
            "[valid epoch 2] loss: 0.144, acc: 0.953: 100% 75/75 [00:09<00:00,  8.24it/s]\n",
            "[train epoch 3] loss: 0.194, acc: 0.921, lr: 0.00017: 100% 675/675 [04:48<00:00,  2.34it/s]\n",
            "[valid epoch 3] loss: 0.074, acc: 0.987: 100% 75/75 [00:09<00:00,  8.12it/s]\n",
            "[train epoch 4] loss: 0.126, acc: 0.950, lr: 0.00005: 100% 675/675 [04:49<00:00,  2.33it/s]\n",
            "[valid epoch 4] loss: 0.025, acc: 0.990: 100% 75/75 [00:09<00:00,  8.15it/s]\n",
            "[train epoch 5] loss: 0.087, acc: 0.963, lr: 0.00000: 100% 675/675 [04:49<00:00,  2.33it/s]\n",
            "[valid epoch 5] loss: 0.019, acc: 0.997: 100% 75/75 [00:09<00:00,  8.11it/s]\n",
            "6000 images were found in the dataset.\n",
            "5400 images for training.\n",
            "600 images for validation.\n",
            "Using 2 dataloader workers every process\n",
            "_IncompatibleKeys(missing_keys=['head.weight', 'head.bias'], unexpected_keys=[])\n",
            "[train epoch 0] loss: 0.517, acc: 0.744, lr: 0.00050: 100% 675/675 [04:49<00:00,  2.33it/s]\n",
            "[valid epoch 0] loss: 0.414, acc: 0.800: 100% 75/75 [00:09<00:00,  7.91it/s]\n",
            "[train epoch 1] loss: 0.417, acc: 0.811, lr: 0.00045: 100% 675/675 [04:49<00:00,  2.33it/s]\n",
            "[valid epoch 1] loss: 0.270, acc: 0.887: 100% 75/75 [00:09<00:00,  7.96it/s]\n",
            "[train epoch 2] loss: 0.318, acc: 0.864, lr: 0.00033: 100% 675/675 [04:49<00:00,  2.33it/s]\n",
            "[valid epoch 2] loss: 0.286, acc: 0.860: 100% 75/75 [00:09<00:00,  8.01it/s]\n",
            "[train epoch 3] loss: 0.201, acc: 0.915, lr: 0.00017: 100% 675/675 [04:48<00:00,  2.34it/s]\n",
            "[valid epoch 3] loss: 0.044, acc: 0.987: 100% 75/75 [00:09<00:00,  7.92it/s]\n",
            "[train epoch 4] loss: 0.116, acc: 0.954, lr: 0.00005: 100% 675/675 [04:49<00:00,  2.33it/s]\n",
            "[valid epoch 4] loss: 0.027, acc: 0.988: 100% 75/75 [00:09<00:00,  7.91it/s]\n",
            "[train epoch 5] loss: 0.089, acc: 0.964, lr: 0.00000: 100% 675/675 [04:49<00:00,  2.33it/s]\n",
            "[valid epoch 5] loss: 0.014, acc: 0.997: 100% 75/75 [00:09<00:00,  8.13it/s]\n",
            "6000 images were found in the dataset.\n",
            "5400 images for training.\n",
            "600 images for validation.\n",
            "Using 2 dataloader workers every process\n",
            "_IncompatibleKeys(missing_keys=['head.weight', 'head.bias'], unexpected_keys=[])\n",
            "[train epoch 0] loss: 0.465, acc: 0.778, lr: 0.00050: 100% 675/675 [04:49<00:00,  2.33it/s]\n",
            "[valid epoch 0] loss: 0.628, acc: 0.712: 100% 75/75 [00:09<00:00,  8.08it/s]\n",
            "[train epoch 1] loss: 0.430, acc: 0.796, lr: 0.00045: 100% 675/675 [04:49<00:00,  2.33it/s]\n",
            "[valid epoch 1] loss: 0.214, acc: 0.930: 100% 75/75 [00:09<00:00,  8.11it/s]\n",
            "[train epoch 2] loss: 0.303, acc: 0.872, lr: 0.00033: 100% 675/675 [04:49<00:00,  2.33it/s]\n",
            "[valid epoch 2] loss: 0.195, acc: 0.925: 100% 75/75 [00:09<00:00,  8.06it/s]\n",
            "[train epoch 3] loss: 0.201, acc: 0.918, lr: 0.00017: 100% 675/675 [04:48<00:00,  2.34it/s]\n",
            "[valid epoch 3] loss: 0.086, acc: 0.967: 100% 75/75 [00:09<00:00,  8.19it/s]\n",
            "[train epoch 4] loss: 0.122, acc: 0.948, lr: 0.00005: 100% 675/675 [04:49<00:00,  2.33it/s]\n",
            "[valid epoch 4] loss: 0.015, acc: 0.997: 100% 75/75 [00:09<00:00,  8.12it/s]\n",
            "[train epoch 5] loss: 0.089, acc: 0.963, lr: 0.00000: 100% 675/675 [04:49<00:00,  2.33it/s]\n",
            "[valid epoch 5] loss: 0.007, acc: 0.997: 100% 75/75 [00:09<00:00,  8.12it/s]\n",
            "6000 images were found in the dataset.\n",
            "5400 images for training.\n",
            "600 images for validation.\n",
            "Using 2 dataloader workers every process\n",
            "_IncompatibleKeys(missing_keys=['head.weight', 'head.bias'], unexpected_keys=[])\n",
            "[train epoch 0] loss: 0.490, acc: 0.755, lr: 0.00050: 100% 675/675 [04:48<00:00,  2.34it/s]\n",
            "[valid epoch 0] loss: 0.500, acc: 0.703: 100% 75/75 [00:09<00:00,  7.92it/s]\n",
            "[train epoch 1] loss: 0.428, acc: 0.804, lr: 0.00045: 100% 675/675 [04:49<00:00,  2.33it/s]\n",
            "[valid epoch 1] loss: 0.276, acc: 0.920: 100% 75/75 [00:09<00:00,  7.79it/s]\n",
            "[train epoch 2] loss: 0.325, acc: 0.861, lr: 0.00033: 100% 675/675 [04:49<00:00,  2.33it/s]\n",
            "[valid epoch 2] loss: 0.146, acc: 0.948: 100% 75/75 [00:09<00:00,  7.93it/s]\n",
            "[train epoch 3] loss: 0.204, acc: 0.919, lr: 0.00017: 100% 675/675 [04:49<00:00,  2.33it/s]\n",
            "[valid epoch 3] loss: 0.062, acc: 0.973: 100% 75/75 [00:09<00:00,  8.08it/s]\n",
            "[train epoch 4] loss: 0.125, acc: 0.949, lr: 0.00005: 100% 675/675 [04:49<00:00,  2.33it/s]\n",
            "[valid epoch 4] loss: 0.006, acc: 1.000: 100% 75/75 [00:09<00:00,  8.09it/s]\n",
            "[train epoch 5] loss: 0.093, acc: 0.962, lr: 0.00000: 100% 675/675 [04:49<00:00,  2.33it/s]\n",
            "[valid epoch 5] loss: 0.005, acc: 1.000: 100% 75/75 [00:09<00:00,  8.05it/s]\n",
            "6000 images were found in the dataset.\n",
            "5400 images for training.\n",
            "600 images for validation.\n",
            "Using 2 dataloader workers every process\n",
            "_IncompatibleKeys(missing_keys=['head.weight', 'head.bias'], unexpected_keys=[])\n",
            "[train epoch 0] loss: 0.504, acc: 0.755, lr: 0.00050: 100% 675/675 [04:48<00:00,  2.34it/s]\n",
            "[valid epoch 0] loss: 0.309, acc: 0.878: 100% 75/75 [00:09<00:00,  7.91it/s]\n",
            "[train epoch 1] loss: 0.412, acc: 0.807, lr: 0.00045: 100% 675/675 [04:49<00:00,  2.33it/s]\n",
            "[valid epoch 1] loss: 0.204, acc: 0.910: 100% 75/75 [00:09<00:00,  7.95it/s]\n",
            "[train epoch 2] loss: 0.312, acc: 0.866, lr: 0.00033: 100% 675/675 [04:49<00:00,  2.33it/s]\n",
            "[valid epoch 2] loss: 0.227, acc: 0.893: 100% 75/75 [00:09<00:00,  7.95it/s]\n",
            "[train epoch 3] loss: 0.196, acc: 0.916, lr: 0.00017: 100% 675/675 [04:48<00:00,  2.34it/s]\n",
            "[valid epoch 3] loss: 0.033, acc: 0.982: 100% 75/75 [00:09<00:00,  8.03it/s]\n",
            "[train epoch 4] loss: 0.126, acc: 0.944, lr: 0.00005: 100% 675/675 [04:49<00:00,  2.33it/s]\n",
            "[valid epoch 4] loss: 0.012, acc: 0.998: 100% 75/75 [00:09<00:00,  8.12it/s]\n",
            "[train epoch 5] loss: 0.087, acc: 0.964, lr: 0.00000: 100% 675/675 [04:48<00:00,  2.34it/s]\n",
            "[valid epoch 5] loss: 0.010, acc: 0.995: 100% 75/75 [00:09<00:00,  8.06it/s]\n",
            "6000 images were found in the dataset.\n",
            "5400 images for training.\n",
            "600 images for validation.\n",
            "Using 2 dataloader workers every process\n",
            "_IncompatibleKeys(missing_keys=['head.weight', 'head.bias'], unexpected_keys=[])\n",
            "[train epoch 0] loss: 0.500, acc: 0.753, lr: 0.00050: 100% 675/675 [04:48<00:00,  2.34it/s]\n",
            "[valid epoch 0] loss: 0.528, acc: 0.718: 100% 75/75 [00:09<00:00,  7.88it/s]\n",
            "[train epoch 1] loss: 0.444, acc: 0.794, lr: 0.00045: 100% 675/675 [04:49<00:00,  2.33it/s]\n",
            "[valid epoch 1] loss: 0.308, acc: 0.882: 100% 75/75 [00:09<00:00,  8.02it/s]\n",
            "[train epoch 2] loss: 0.342, acc: 0.849, lr: 0.00033: 100% 675/675 [04:48<00:00,  2.34it/s]\n",
            "[valid epoch 2] loss: 0.150, acc: 0.945: 100% 75/75 [00:09<00:00,  8.12it/s]\n",
            "[train epoch 3] loss: 0.200, acc: 0.913, lr: 0.00017: 100% 675/675 [04:48<00:00,  2.34it/s]\n",
            "[valid epoch 3] loss: 0.051, acc: 0.975: 100% 75/75 [00:09<00:00,  8.12it/s]\n",
            "[train epoch 4] loss: 0.127, acc: 0.948, lr: 0.00005: 100% 675/675 [04:48<00:00,  2.34it/s]\n",
            "[valid epoch 4] loss: 0.009, acc: 0.998: 100% 75/75 [00:09<00:00,  8.22it/s]\n",
            "[train epoch 5] loss: 0.081, acc: 0.968, lr: 0.00000: 100% 675/675 [04:48<00:00,  2.34it/s]\n",
            "[valid epoch 5] loss: 0.006, acc: 1.000: 100% 75/75 [00:09<00:00,  8.29it/s]\n",
            "6000 images were found in the dataset.\n",
            "5400 images for training.\n",
            "600 images for validation.\n",
            "Using 2 dataloader workers every process\n",
            "_IncompatibleKeys(missing_keys=['head.weight', 'head.bias'], unexpected_keys=[])\n",
            "[train epoch 0] loss: 0.499, acc: 0.754, lr: 0.00050: 100% 675/675 [04:48<00:00,  2.34it/s]\n",
            "[valid epoch 0] loss: 0.490, acc: 0.763: 100% 75/75 [00:09<00:00,  8.05it/s]\n",
            "[train epoch 1] loss: 0.388, acc: 0.823, lr: 0.00045: 100% 675/675 [04:49<00:00,  2.34it/s]\n",
            "[valid epoch 1] loss: 0.288, acc: 0.888: 100% 75/75 [00:09<00:00,  8.08it/s]\n",
            "[train epoch 2] loss: 0.293, acc: 0.876, lr: 0.00033: 100% 675/675 [04:48<00:00,  2.34it/s]\n",
            "[valid epoch 2] loss: 0.112, acc: 0.972: 100% 75/75 [00:09<00:00,  8.17it/s]\n",
            "[train epoch 3] loss: 0.176, acc: 0.931, lr: 0.00017: 100% 675/675 [04:48<00:00,  2.34it/s]\n",
            "[valid epoch 3] loss: 0.026, acc: 0.990: 100% 75/75 [00:09<00:00,  8.13it/s]\n",
            "[train epoch 4] loss: 0.108, acc: 0.953, lr: 0.00005: 100% 675/675 [04:48<00:00,  2.34it/s]\n",
            "[valid epoch 4] loss: 0.018, acc: 0.992: 100% 75/75 [00:09<00:00,  8.21it/s]\n",
            "[train epoch 5] loss: 0.079, acc: 0.968, lr: 0.00000: 100% 675/675 [04:48<00:00,  2.34it/s]\n",
            "[valid epoch 5] loss: 0.023, acc: 0.992: 100% 75/75 [00:09<00:00,  8.18it/s]\n",
            "6000 images were found in the dataset.\n",
            "5400 images for training.\n",
            "600 images for validation.\n",
            "Using 2 dataloader workers every process\n",
            "_IncompatibleKeys(missing_keys=['head.weight', 'head.bias'], unexpected_keys=[])\n",
            "[train epoch 0] loss: 0.482, acc: 0.761, lr: 0.00050: 100% 675/675 [04:48<00:00,  2.34it/s]\n",
            "[valid epoch 0] loss: 0.283, acc: 0.883: 100% 75/75 [00:09<00:00,  8.17it/s]\n",
            "[train epoch 1] loss: 0.392, acc: 0.825, lr: 0.00045: 100% 675/675 [04:48<00:00,  2.34it/s]\n",
            "[valid epoch 1] loss: 0.181, acc: 0.935: 100% 75/75 [00:09<00:00,  8.15it/s]\n",
            "[train epoch 2] loss: 0.285, acc: 0.881, lr: 0.00033: 100% 675/675 [04:48<00:00,  2.34it/s]\n",
            "[valid epoch 2] loss: 0.133, acc: 0.962: 100% 75/75 [00:09<00:00,  8.29it/s]\n",
            "[train epoch 3] loss: 0.192, acc: 0.920, lr: 0.00017: 100% 675/675 [04:49<00:00,  2.34it/s]\n",
            "[valid epoch 3] loss: 0.056, acc: 0.988: 100% 75/75 [00:09<00:00,  8.17it/s]\n",
            "[train epoch 4] loss: 0.114, acc: 0.954, lr: 0.00005: 100% 675/675 [04:48<00:00,  2.34it/s]\n",
            "[valid epoch 4] loss: 0.005, acc: 1.000: 100% 75/75 [00:09<00:00,  8.12it/s]\n",
            "[train epoch 5] loss: 0.079, acc: 0.966, lr: 0.00000: 100% 675/675 [04:49<00:00,  2.33it/s]\n",
            "[valid epoch 5] loss: 0.003, acc: 1.000: 100% 75/75 [00:09<00:00,  7.65it/s]\n"
          ]
        }
      ]
    },
    {
      "cell_type": "code",
      "source": [
        "!python Diabetic-Retinopathy-Detection-2class/predict.py"
      ],
      "metadata": {
        "colab": {
          "base_uri": "https://localhost:8080/"
        },
        "id": "SAdj0lt-u5_i",
        "outputId": "27f2b91e-95f0-4bab-a9a8-bd1e359bb3ad"
      },
      "execution_count": 10,
      "outputs": [
        {
          "output_type": "stream",
          "name": "stdout",
          "text": [
            "Namespace(device=device(type='cuda', index=0), num_classes=2, path_json=PosixPath('Diabetic-Retinopathy-Detection-2class/class_indices.json'), path_test=PosixPath('Diabetic-Retinopathy-Detection-2class/data/test'), weights=PosixPath('Diabetic-Retinopathy-Detection-2class/../drive/MyDrive/weights_convnext/best_model_epoch6_10fold.pth'))\n",
            "using cuda:0 device.\n",
            "TP = 56 FN = 3 FP = 5 TN = 35\n",
            "准确率: 0.9191919191919192\n",
            "精确率: 0.9180327868852459\n",
            "召回率: 0.9491525423728814\n",
            "F1 score: 0.9333333333333333\n"
          ]
        }
      ]
    },
    {
      "cell_type": "code",
      "source": [
        "#export your model's weights for future use\n",
        "from google.colab import files\n",
        "files.download('./Diabetic-Retinopathy-Detection-2class/weights/best_model.pth')"
      ],
      "metadata": {
        "colab": {
          "base_uri": "https://localhost:8080/",
          "height": 17
        },
        "id": "OqwDLhtMp2I6",
        "outputId": "73c16571-c915-4823-f92a-0b6d8e651759"
      },
      "execution_count": null,
      "outputs": [
        {
          "output_type": "display_data",
          "data": {
            "text/plain": [
              "<IPython.core.display.Javascript object>"
            ],
            "application/javascript": [
              "\n",
              "    async function download(id, filename, size) {\n",
              "      if (!google.colab.kernel.accessAllowed) {\n",
              "        return;\n",
              "      }\n",
              "      const div = document.createElement('div');\n",
              "      const label = document.createElement('label');\n",
              "      label.textContent = `Downloading \"${filename}\": `;\n",
              "      div.appendChild(label);\n",
              "      const progress = document.createElement('progress');\n",
              "      progress.max = size;\n",
              "      div.appendChild(progress);\n",
              "      document.body.appendChild(div);\n",
              "\n",
              "      const buffers = [];\n",
              "      let downloaded = 0;\n",
              "\n",
              "      const channel = await google.colab.kernel.comms.open(id);\n",
              "      // Send a message to notify the kernel that we're ready.\n",
              "      channel.send({})\n",
              "\n",
              "      for await (const message of channel.messages) {\n",
              "        // Send a message to notify the kernel that we're ready.\n",
              "        channel.send({})\n",
              "        if (message.buffers) {\n",
              "          for (const buffer of message.buffers) {\n",
              "            buffers.push(buffer);\n",
              "            downloaded += buffer.byteLength;\n",
              "            progress.value = downloaded;\n",
              "          }\n",
              "        }\n",
              "      }\n",
              "      const blob = new Blob(buffers, {type: 'application/binary'});\n",
              "      const a = document.createElement('a');\n",
              "      a.href = window.URL.createObjectURL(blob);\n",
              "      a.download = filename;\n",
              "      div.appendChild(a);\n",
              "      a.click();\n",
              "      div.remove();\n",
              "    }\n",
              "  "
            ]
          },
          "metadata": {}
        },
        {
          "output_type": "display_data",
          "data": {
            "text/plain": [
              "<IPython.core.display.Javascript object>"
            ],
            "application/javascript": [
              "download(\"download_bedc5ef9-e2f9-43bd-99a2-e7123c145ee9\", \"best_model.pth\", 785051665)"
            ]
          },
          "metadata": {}
        }
      ]
    },
    {
      "cell_type": "markdown",
      "source": [
        "# EfficientNetV2"
      ],
      "metadata": {
        "id": "vwzckpCATGI2"
      }
    },
    {
      "cell_type": "code",
      "source": [
        "!python Diabetic-Retinopathy-Detection/EfficientnetV2/train.py"
      ],
      "metadata": {
        "colab": {
          "base_uri": "https://localhost:8080/"
        },
        "id": "BBX6nkvqR-Pz",
        "outputId": "0741219e-85d2-4a48-d47f-4d5a2bc621e0"
      },
      "execution_count": null,
      "outputs": [
        {
          "output_type": "stream",
          "name": "stdout",
          "text": [
            "Namespace(batch_size=8, data_path=PosixPath('Diabetic-Retinopathy-Detection/EfficientnetV2/../data/data_split/train_enh'), device='cuda:0', epochs=30, freeze_layers=True, lr=0.01, lrf=0.01, num_classes=2, weights=PosixPath('Diabetic-Retinopathy-Detection/EfficientnetV2/../../drive/MyDrive/torch_efficientnetv2/pre_efficientnetv2-s.pth'))\n",
            "using cuda:0 device.\n",
            "Start Tensorboard with \"tensorboard --logdir=runs\", view at http://localhost:6006/\n",
            "5200 images were found in the dataset.\n",
            "4160 images for training.\n",
            "1040 images for validation.\n",
            "Using 2 dataloader workers every process\n",
            "_IncompatibleKeys(missing_keys=['head.classifier.weight', 'head.classifier.bias'], unexpected_keys=[])\n",
            "training head.project_conv.conv.weight\n",
            "training head.project_conv.bn.weight\n",
            "training head.project_conv.bn.bias\n",
            "training head.classifier.weight\n",
            "training head.classifier.bias\n",
            "[train epoch 0] loss: 2.277, acc: 0.637: 100% 520/520 [00:53<00:00,  9.66it/s]\n",
            "[valid epoch 0] loss: 1.181, acc: 0.746: 100% 130/130 [00:15<00:00,  8.62it/s]\n",
            "[train epoch 1] loss: 2.008, acc: 0.650: 100% 520/520 [00:52<00:00,  9.92it/s]\n",
            "[valid epoch 1] loss: 1.231, acc: 0.740: 100% 130/130 [00:15<00:00,  8.63it/s]\n",
            "[train epoch 2] loss: 1.540, acc: 0.691: 100% 520/520 [00:52<00:00,  9.87it/s]\n",
            "[valid epoch 2] loss: 0.643, acc: 0.761: 100% 130/130 [00:15<00:00,  8.62it/s]\n",
            "[train epoch 3] loss: 1.349, acc: 0.686: 100% 520/520 [00:52<00:00,  9.92it/s]\n",
            "[valid epoch 3] loss: 1.218, acc: 0.661: 100% 130/130 [00:15<00:00,  8.61it/s]\n",
            "[train epoch 4] loss: 1.274, acc: 0.692: 100% 520/520 [00:51<00:00, 10.01it/s]\n",
            "[valid epoch 4] loss: 0.491, acc: 0.812: 100% 130/130 [00:15<00:00,  8.59it/s]\n",
            "[train epoch 5] loss: 1.121, acc: 0.702: 100% 520/520 [00:51<00:00, 10.03it/s]\n",
            "[valid epoch 5] loss: 0.529, acc: 0.811: 100% 130/130 [00:15<00:00,  8.54it/s]\n",
            "[train epoch 6] loss: 0.991, acc: 0.706: 100% 520/520 [00:52<00:00,  9.97it/s]\n",
            "[valid epoch 6] loss: 0.520, acc: 0.799: 100% 130/130 [00:14<00:00,  8.69it/s]\n",
            "[train epoch 7] loss: 0.920, acc: 0.700: 100% 520/520 [00:52<00:00,  9.97it/s]\n",
            "[valid epoch 7] loss: 0.482, acc: 0.799: 100% 130/130 [00:14<00:00,  8.67it/s]\n",
            "[train epoch 8] loss: 0.801, acc: 0.709: 100% 520/520 [00:52<00:00,  9.97it/s]\n",
            "[valid epoch 8] loss: 0.454, acc: 0.808: 100% 130/130 [00:14<00:00,  8.75it/s]\n",
            "[train epoch 9] loss: 0.733, acc: 0.717: 100% 520/520 [00:52<00:00,  9.93it/s]\n",
            "[valid epoch 9] loss: 0.386, acc: 0.810: 100% 130/130 [00:15<00:00,  8.60it/s]\n",
            "[train epoch 10] loss: 0.729, acc: 0.721: 100% 520/520 [00:52<00:00,  9.98it/s]\n",
            "[valid epoch 10] loss: 0.353, acc: 0.840: 100% 130/130 [00:15<00:00,  8.59it/s]\n",
            "[train epoch 11] loss: 0.673, acc: 0.733: 100% 520/520 [00:52<00:00,  9.96it/s]\n",
            "[valid epoch 11] loss: 0.364, acc: 0.854: 100% 130/130 [00:14<00:00,  8.69it/s]\n",
            "[train epoch 12] loss: 0.637, acc: 0.739: 100% 520/520 [00:52<00:00,  9.98it/s]\n",
            "[valid epoch 12] loss: 0.342, acc: 0.852: 100% 130/130 [00:15<00:00,  8.62it/s]\n",
            "[train epoch 13] loss: 0.590, acc: 0.750: 100% 520/520 [00:51<00:00, 10.01it/s]\n",
            "[valid epoch 13] loss: 0.318, acc: 0.864: 100% 130/130 [00:14<00:00,  8.70it/s]\n",
            "[train epoch 14] loss: 0.570, acc: 0.761: 100% 520/520 [00:52<00:00, 10.00it/s]\n",
            "[valid epoch 14] loss: 0.329, acc: 0.871: 100% 130/130 [00:15<00:00,  8.64it/s]\n",
            "[train epoch 15] loss: 0.560, acc: 0.748: 100% 520/520 [00:52<00:00,  9.95it/s]\n",
            "[valid epoch 15] loss: 0.313, acc: 0.859: 100% 130/130 [00:15<00:00,  8.63it/s]\n",
            "[train epoch 16] loss: 0.525, acc: 0.759: 100% 520/520 [00:52<00:00,  9.96it/s]\n",
            "[valid epoch 16] loss: 0.316, acc: 0.866: 100% 130/130 [00:15<00:00,  8.62it/s]\n",
            "[train epoch 17] loss: 0.508, acc: 0.773: 100% 520/520 [00:52<00:00,  9.98it/s]\n",
            "[valid epoch 17] loss: 0.301, acc: 0.865: 100% 130/130 [00:14<00:00,  8.70it/s]\n",
            "[train epoch 18] loss: 0.494, acc: 0.777: 100% 520/520 [00:52<00:00,  9.87it/s]\n",
            "[valid epoch 18] loss: 0.306, acc: 0.868: 100% 130/130 [00:15<00:00,  8.62it/s]\n",
            "[train epoch 19] loss: 0.481, acc: 0.775: 100% 520/520 [00:52<00:00,  9.90it/s]\n",
            "[valid epoch 19] loss: 0.301, acc: 0.863: 100% 130/130 [00:15<00:00,  8.65it/s]\n",
            "[train epoch 20] loss: 0.472, acc: 0.781: 100% 520/520 [00:52<00:00,  9.95it/s]\n",
            "[valid epoch 20] loss: 0.293, acc: 0.871: 100% 130/130 [00:15<00:00,  8.63it/s]\n",
            "[train epoch 21] loss: 0.444, acc: 0.790: 100% 520/520 [00:52<00:00,  9.96it/s]\n",
            "[valid epoch 21] loss: 0.299, acc: 0.866: 100% 130/130 [00:15<00:00,  8.65it/s]\n",
            "[train epoch 22] loss: 0.453, acc: 0.792: 100% 520/520 [00:52<00:00, 10.00it/s]\n",
            "[valid epoch 22] loss: 0.278, acc: 0.877: 100% 130/130 [00:15<00:00,  8.62it/s]\n",
            "[train epoch 23] loss: 0.437, acc: 0.798: 100% 520/520 [00:52<00:00,  9.91it/s]\n",
            "[valid epoch 23] loss: 0.291, acc: 0.861: 100% 130/130 [00:15<00:00,  8.48it/s]\n",
            "[train epoch 24] loss: 0.413, acc: 0.810: 100% 520/520 [00:53<00:00,  9.75it/s]\n",
            "[valid epoch 24] loss: 0.267, acc: 0.893: 100% 130/130 [00:15<00:00,  8.57it/s]\n",
            "[train epoch 25] loss: 0.449, acc: 0.787: 100% 520/520 [00:53<00:00,  9.80it/s]\n",
            "[valid epoch 25] loss: 0.270, acc: 0.888: 100% 130/130 [00:15<00:00,  8.61it/s]\n",
            "[train epoch 26] loss: 0.435, acc: 0.790: 100% 520/520 [00:53<00:00,  9.81it/s]\n",
            "[valid epoch 26] loss: 0.278, acc: 0.885: 100% 130/130 [00:15<00:00,  8.51it/s]\n",
            "[train epoch 27] loss: 0.432, acc: 0.804: 100% 520/520 [00:52<00:00,  9.84it/s]\n",
            "[valid epoch 27] loss: 0.272, acc: 0.895: 100% 130/130 [00:15<00:00,  8.56it/s]\n",
            "[train epoch 28] loss: 0.419, acc: 0.803: 100% 520/520 [00:54<00:00,  9.60it/s]\n",
            "[valid epoch 28] loss: 0.274, acc: 0.884: 100% 130/130 [00:15<00:00,  8.31it/s]\n",
            "[train epoch 29] loss: 0.417, acc: 0.804: 100% 520/520 [00:52<00:00,  9.88it/s]\n",
            "[valid epoch 29] loss: 0.280, acc: 0.888: 100% 130/130 [00:15<00:00,  8.59it/s]\n"
          ]
        }
      ]
    }
  ]
}